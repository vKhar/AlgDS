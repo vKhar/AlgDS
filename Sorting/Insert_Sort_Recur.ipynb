{
 "metadata": {
  "language_info": {
   "codemirror_mode": {
    "name": "ipython",
    "version": 3
   },
   "file_extension": ".py",
   "mimetype": "text/x-python",
   "name": "python",
   "nbconvert_exporter": "python",
   "pygments_lexer": "ipython3",
   "version": "3.6.4-final"
  },
  "orig_nbformat": 2,
  "kernelspec": {
   "name": "python3",
   "display_name": "Python 3.6.4 64-bit",
   "metadata": {
    "interpreter": {
     "hash": "f7291e4b392a32fbfa525b87d1bbd0a3d888adf3d0deca0c205c61b9e7284b82"
    }
   }
  }
 },
 "nbformat": 4,
 "nbformat_minor": 2,
 "cells": [
  {
   "cell_type": "code",
   "execution_count": 11,
   "metadata": {},
   "outputs": [],
   "source": [
    "### Regular insertion sort\n",
    "def insertSort(A):\n",
    "    for i in range(1, len(A)):\n",
    "        j = i\n",
    "        while j > 0:\n",
    "            if A[j] < A[j-1]:\n",
    "                A[j-1], A[j] = A[j], A[j-1]\n",
    "                j = j-1\n",
    "            else:\n",
    "                break"
   ]
  },
  {
   "cell_type": "code",
   "execution_count": null,
   "metadata": {},
   "outputs": [],
   "source": [
    "### Non-inplace\n",
    "def recur_insertSort(A):\n",
    "    def _insert(A, x):\n",
    "        if len(A) == 0:\n",
    "            return [x]\n",
    "        else:\n",
    "            sortedA = _insert(A[:-1], A[-1])\n",
    "            for i in range(len(sortedA)-1, -1, -1):\n",
    "                if x >  sortedA[i]:\n",
    "                    sortedA.insert(i+1, x)\n",
    "                    return sortedA\n",
    "            else:\n",
    "                return [x] + sortedA\n",
    "\n",
    "    return _insert(A[:-1], A[-1])"
   ]
  },
  {
   "cell_type": "code",
   "execution_count": 4,
   "metadata": {},
   "outputs": [],
   "source": [
    "##In-place\n",
    "def recur_insertSort(A):\n",
    "    def _recur(A, l_lb, l_ub, r_lb, r_ub): \n",
    "        if len(A) == (l_ub - l_lb)+1:\n",
    "            return\n",
    "        j = r_lb\n",
    "        while j > 0:\n",
    "            if A[j] < A[j-1]:\n",
    "                A[j-1], A[j] = A[j], A[j-1]\n",
    "                j = j-1\n",
    "            else:\n",
    "                break\n",
    "        l_ub += 1\n",
    "        r_lb +=1\n",
    "        _recur(A, l_lb, l_ub, r_lb, r_ub)\n",
    "  \n",
    "    if len(A) < 2:\n",
    "        return  \n",
    "    l_lb, l_ub, r_lb, r_ub = 0, 0, 1, len(A)-1\n",
    "    _recur(A,l_lb,l_ub,r_lb, r_ub)"
   ]
  },
  {
   "cell_type": "code",
   "execution_count": 15,
   "metadata": {},
   "outputs": [
    {
     "output_type": "execute_result",
     "data": {
      "text/plain": [
       "[8, 9, 10, 11, 11, 13, 15, 15, 15, 20]"
      ]
     },
     "metadata": {},
     "execution_count": 15
    }
   ],
   "source": [
    "import random\n",
    "A=[ random.randint(1,20) for _ in range(10)]\n",
    "insertSort(A)\n",
    "A"
   ]
  },
  {
   "cell_type": "code",
   "execution_count": null,
   "metadata": {},
   "outputs": [],
   "source": []
  }
 ]
}