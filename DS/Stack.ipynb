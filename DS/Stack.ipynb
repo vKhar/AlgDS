{
 "metadata": {
  "language_info": {
   "codemirror_mode": {
    "name": "ipython",
    "version": 3
   },
   "file_extension": ".py",
   "mimetype": "text/x-python",
   "name": "python",
   "nbconvert_exporter": "python",
   "pygments_lexer": "ipython3",
   "version": 3
  },
  "orig_nbformat": 2
 },
 "nbformat": 4,
 "nbformat_minor": 2,
 "cells": [
  {
   "cell_type": "code",
   "execution_count": null,
   "metadata": {},
   "outputs": [],
   "source": [
    "class Stack:\n",
    "    def __init__(self, size): \n",
    "        self.buffer = [ None for _ in range(size)] ## fixed sized array\n",
    "        self.size = size\n",
    "        self.top = -1\n",
    "    def push(self, item):\n",
    "        if self.isFull():\n",
    "            return ## Overflow\n",
    "        self.top +=1 \n",
    "        self.buffer[self.top] = item\n",
    "    def isEmpty(self):\n",
    "        return self.top == -1\n",
    "    def isFull(self):\n",
    "        return self.top == self.size - 1\n",
    "    def pop(self):\n",
    "        if self.isEmpty(): ## underflow\n",
    "            return \n",
    "        ret = self.buffer[self.top]\n",
    "        self.buffer[self.top] = None\n",
    "        self.top -= 1\n",
    "        return ret\n",
    "\n",
    "    def peek(self):\n",
    "        if self.isEmpty():\n",
    "            return\n",
    "        return self.buffer[self.top] \n"
   ]
  }
 ]
}