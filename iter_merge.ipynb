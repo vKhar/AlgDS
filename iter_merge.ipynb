{
 "metadata": {
  "language_info": {
   "codemirror_mode": {
    "name": "ipython",
    "version": 3
   },
   "file_extension": ".py",
   "mimetype": "text/x-python",
   "name": "python",
   "nbconvert_exporter": "python",
   "pygments_lexer": "ipython3",
   "version": "3.6.4-final"
  },
  "orig_nbformat": 2,
  "kernelspec": {
   "name": "Python 3.6.4 64-bit",
   "display_name": "Python 3.6.4 64-bit",
   "metadata": {
    "interpreter": {
     "hash": "f7291e4b392a32fbfa525b87d1bbd0a3d888adf3d0deca0c205c61b9e7284b82"
    }
   }
  }
 },
 "nbformat": 4,
 "nbformat_minor": 2,
 "cells": [
  {
   "cell_type": "code",
   "execution_count": 1,
   "metadata": {
    "tags": []
   },
   "outputs": [
    {
     "output_type": "stream",
     "name": "stdout",
     "text": "[83, -8, 28, -77, 54, 51, -85, -45, -28, -97, -90, -63, -64, -50, 41, 27, -68, -60, 93, -5, 75, -93, -33, 55, 30, 93, 17, 36, 34, 59, 89, 77, 81, 18, 72, 97, 73, 37, 11, 98, -19, 82, -81, 35, -86, 71, -11, -10, -43, 28, -19, -8, 46, 46, 96, -36, 0, -55, -85, -50, -65, -54, 73, -21, -90, 23, -76, 1, 64, -74, 90, 15, 0, -4, 25, 76, -3, -77, 19, 70, 98, -89, 69, -87, -83, 26, 92, -82, 84, 32, 87, 80, -79, -27, -89, -69, -57, -53, -66, -66]\n[-97, -93, -90, -90, -89, -89, -87, -86, -85, -85, -83, -82, -81, -79, -77, -77, -76, -74, -69, -68, -66, -66, -65, -64, -63, -60, -57, -55, -54, -53, -50, -50, -45, -43, -36, -33, -28, -27, -21, -19, -19, -11, -10, -8, -8, -5, -4, -3, 0, 0, 1, 11, 15, 17, 18, 19, 23, 25, 26, 27, 28, 28, 30, 32, 34, 35, 36, 37, 41, 46, 46, 51, 54, 55, 59, 64, 69, 70, 71, 72, 73, 73, 75, 76, 77, 80, 81, 82, 83, 84, 87, 89, 90, 92, 93, 93, 96, 97, 98, 98]\n"
    }
   ],
   "source": [
    "def merge(A, temp, fr, mid, to):\n",
    "    k=fr\n",
    "    i=fr\n",
    "    j=mid+1\n",
    "    while i <= mid and j <= to:\n",
    "        if A[i] < A[j]:\n",
    "            temp[k] = A[i]\n",
    "            i+=1\n",
    "        else:\n",
    "            temp[k] = A[j]\n",
    "            j+=1\n",
    "        k+=1\n",
    "    ## left sublist has remaining items\n",
    "    while i < len(A) and i <= mid:\n",
    "        temp[k] = A[i]\n",
    "        k+=1\n",
    "        i+=1\n",
    "    # remaining items in right sublist is already sorted, no need to transfer to temp\n",
    "    \n",
    "    #transfer sorted temporary sublist back to original list\n",
    "    for i in range(fr, to+1):\n",
    "        A[i] = temp[i]\n",
    "\n",
    "\n",
    "def merge_sort(A):\n",
    "    tmp=A.copy()\n",
    "    m=2 # size of sublist to merge\n",
    "    while m <= len(A):\n",
    "        for i in range(0,len(A)-1,m): \n",
    "            start=i\n",
    "            end = min(start+m-1,len(A)-1) ## make sure no overflow for last iteration\n",
    "            mid=start + (m//2) -1\n",
    "            #print(m,(start,mid,end),end=\",\")\n",
    "            merge(A,tmp,start,mid,end)\n",
    "        #print(A)\n",
    "        m*=2\n",
    "    if len(A) > m/2: ## merge 1 more time for list length that are not power of 2\n",
    "        merge(A,tmp,0, m//2 -1,len(A)-1)\n",
    "    #print(m)\n",
    "\n",
    "## Test Case\n",
    "import random\n",
    "A=[ random.randint(-99,99) for _ in range(100)]\n",
    "print(A)\n",
    "merge_sort(A)\n",
    "print(A)\n"
   ]
  },
  {
   "cell_type": "code",
   "execution_count": null,
   "metadata": {},
   "outputs": [],
   "source": []
  }
 ]
}