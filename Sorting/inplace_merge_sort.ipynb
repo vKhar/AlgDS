{
 "cells": [
  {
   "source": [
    "### Recursive Inplace Merge Sort"
   ],
   "cell_type": "markdown",
   "metadata": {}
  },
  {
   "cell_type": "code",
   "execution_count": null,
   "metadata": {},
   "outputs": [],
   "source": [
    "def shuffle(A, start, end): # end > start, move item end to start in place\n",
    "    if start >= end:\n",
    "        return A\n",
    "    temp = A[end]\n",
    "    for i in range(end-1, start-1, -1):\n",
    "        A[i+1] = A[i]\n",
    "    else:\n",
    "        A[i] = temp\n",
    "    return A"
   ]
  },
  {
   "cell_type": "code",
   "execution_count": null,
   "metadata": {},
   "outputs": [],
   "source": [
    "def in_merge(A, start1, end1, start2, end2): ## in place merge\n",
    "    i=start1\n",
    "    j=start2\n",
    "    while i < start2 and j < end2+1:\n",
    "        if A[i] <= A[j]:\n",
    "            i+=1\n",
    "        else:\n",
    "            shuffle(A, i, j)\n",
    "            i+=1\n",
    "            j+=1\n",
    "            start2 += 1 ## since the length of left list increase by 1"
   ]
  },
  {
   "cell_type": "code",
   "execution_count": null,
   "metadata": {},
   "outputs": [],
   "source": [
    "def in_recur_mergeSort(A):\n",
    "\n",
    "    def in_merge_sort(A, start, end):\n",
    "        if start == end:\n",
    "            return \n",
    "        else:\n",
    "            mid= (start + end)//2\n",
    "            start1 = start\n",
    "            end1 = mid \n",
    "            start2= mid+1\n",
    "            end2 = end\n",
    "            in_merge_sort(A,start1,end1)\n",
    "            in_merge_sort(A,start2, end2)\n",
    "            in_merge(A,start1,end1, start2, end2)\n",
    "    in_merge_sort(A, 0, len(A)-1)\n",
    "\n"
   ]
  },
  {
   "cell_type": "code",
   "execution_count": null,
   "metadata": {},
   "outputs": [],
   "source": [
    "import random\n",
    "A=[ random.randint(-5,10) for _ in range(30)]\n",
    "in_recur_mergeSort(A)\n",
    "print(A)"
   ]
  },
  {
   "source": [
    "### Non-inplace Iterative Merge Sort"
   ],
   "cell_type": "markdown",
   "metadata": {}
  },
  {
   "cell_type": "code",
   "execution_count": null,
   "metadata": {},
   "outputs": [],
   "source": [
    "def merge(a,b):\n",
    "    res = []\n",
    "    l = 0\n",
    "    r = 0\n",
    "    while l < len(a) and r < len(b):\n",
    "        if a[l] < b[r]:\n",
    "            res.append(a[l])\n",
    "            l += 1\n",
    "        else:\n",
    "            res.append(b[r])\n",
    "            r += 1\n",
    "    if l < len(a):\n",
    "        res.extend(a[l:])\n",
    "    if r < len(b):\n",
    "        res.extend(b[r:])\n",
    "    return res\n",
    "\n"
   ]
  },
  {
   "cell_type": "code",
   "execution_count": null,
   "metadata": {},
   "outputs": [],
   "source": [
    "def iter_mergeSort(L):\n",
    "    queue = [ [i] for i in L]\n",
    "    while len(queue) > 1:\n",
    "        left, right = queue.pop(0), queue.pop(0)\n",
    "        queue.append(merge(left, right))\n",
    "    return queue[0]"
   ]
  },
  {
   "cell_type": "code",
   "execution_count": null,
   "metadata": {},
   "outputs": [],
   "source": [
    "import random\n",
    "A=[ random.randint(-5,10) for _ in range(30)]\n",
    "print( iter_mergeSort(A))\n"
   ]
  },
  {
   "source": [
    "### Iterative Inplace Merge Sort"
   ],
   "cell_type": "markdown",
   "metadata": {}
  },
  {
   "cell_type": "code",
   "execution_count": null,
   "metadata": {},
   "outputs": [],
   "source": [
    "def shuffle(A, start, end): # end > start, move item end to start in place\n",
    "    if start >= end:\n",
    "        return A\n",
    "    temp = A[end]\n",
    "    for i in range(end-1, start-1, -1):\n",
    "        A[i+1] = A[i]\n",
    "    else:\n",
    "        A[i] = temp\n",
    "    return A"
   ]
  },
  {
   "cell_type": "code",
   "execution_count": null,
   "metadata": {},
   "outputs": [],
   "source": [
    "def merge(A, left, right): ## in place merge\n",
    "    start1, end1, start2, end2 = left[0], left[1], right[0], right[1]\n",
    "    i=start1\n",
    "    j=start2\n",
    "    while i < start2 and j < end2+1:\n",
    "        if A[i] <= A[j]:\n",
    "            i+=1\n",
    "        else:\n",
    "            shuffle(A, i, j)\n",
    "            i+=1\n",
    "            j+=1\n",
    "            start2 += 1 ## since the length of left list increase by 1\n",
    "    return ( start1, end2)"
   ]
  },
  {
   "cell_type": "code",
   "execution_count": null,
   "metadata": {},
   "outputs": [],
   "source": [
    "def in_iter_mergeSort(L):\n",
    "    if len(L)  == 1:\n",
    "        return\n",
    "    in_queue = [ (i,i) for i in range(len(L))]\n",
    "    out_queue = []\n",
    "    while len(out_queue) != 1:\n",
    "        out_queue=[]\n",
    "        for i in range(0, len(in_queue)-1, 2):\n",
    "            merged = merge(L, in_queue[i], in_queue[i+1])\n",
    "            out_queue.append(merged)\n",
    "        if len(in_queue)%2 != 0: ## for size of queue <> power of 2\n",
    "            out_queue[-1] = merge(L, out_queue[-1], in_queue[-1])\n",
    "        in_queue = out_queue\n"
   ]
  },
  {
   "cell_type": "code",
   "execution_count": null,
   "metadata": {},
   "outputs": [],
   "source": [
    "import random\n",
    "A=[ random.randint(-5,10) for _ in range(30)]\n",
    "in_iter_mergeSort(A)\n",
    "print(A)"
   ]
  },
  {
   "cell_type": "code",
   "execution_count": null,
   "metadata": {},
   "outputs": [],
   "source": []
  }
 ],
 "metadata": {
  "kernelspec": {
   "display_name": "Python 3",
   "language": "python",
   "name": "python3"
  },
  "language_info": {
   "codemirror_mode": {
    "name": "ipython",
    "version": 3
   },
   "file_extension": ".py",
   "mimetype": "text/x-python",
   "name": "python",
   "nbconvert_exporter": "python",
   "pygments_lexer": "ipython3",
   "version": "3.6.4-final"
  }
 },
 "nbformat": 4,
 "nbformat_minor": 2
}