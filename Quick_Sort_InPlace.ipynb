{
 "metadata": {
  "language_info": {
   "codemirror_mode": {
    "name": "ipython",
    "version": 3
   },
   "file_extension": ".py",
   "mimetype": "text/x-python",
   "name": "python",
   "nbconvert_exporter": "python",
   "pygments_lexer": "ipython3",
   "version": "3.6.4-final"
  },
  "orig_nbformat": 2,
  "kernelspec": {
   "name": "python3",
   "display_name": "Python 3.6.4 64-bit",
   "metadata": {
    "interpreter": {
     "hash": "f7291e4b392a32fbfa525b87d1bbd0a3d888adf3d0deca0c205c61b9e7284b82"
    }
   }
  }
 },
 "nbformat": 4,
 "nbformat_minor": 2,
 "cells": [
  {
   "source": [
    "### Inplace Quick Sort"
   ],
   "cell_type": "markdown",
   "metadata": {}
  },
  {
   "cell_type": "code",
   "execution_count": 1,
   "metadata": {},
   "outputs": [],
   "source": [
    "## recursive\n",
    "def in_qs(array):\n",
    "    def  qs(lb,ub,array):\n",
    "        def partition(lb,ub,array): \n",
    "            ## works with 1 element array, \n",
    "            # # element left of pos is always <= pivot,  element at pos and right of pos is > pivot\n",
    "            pos, pivot = lb+1, array[lb]\n",
    "            unknown_pos = lb + 1 ## loop invariant, elements at position left of pos are smaller or equal to pivot value\n",
    "            while unknown_pos <= ub: \n",
    "                if array[unknown_pos] <= pivot:\n",
    "                    array[pos], array[unknown_pos] = array[unknown_pos], array[pos]\n",
    "                    pos +=1\n",
    "                    unknown_pos +=1\n",
    "                else:\n",
    "                    unknown_pos +=1\n",
    "            array[lb], array[pos-1] = array[pos-1], array[lb]\n",
    "            return pos-1\n",
    "        if ub > lb:\n",
    "            pivot_pos = partition(lb,ub,array)\n",
    "            qs(lb,pivot_pos-1,array)\n",
    "            qs(pivot_pos+1,ub,array)\n",
    "    lb, ub = 0, len(array)-1\n",
    "    qs(lb, ub, array)   "
   ]
  },
  {
   "cell_type": "code",
   "execution_count": 2,
   "metadata": {
    "tags": []
   },
   "outputs": [],
   "source": [
    "import random\n",
    "# normal cases:\n",
    "#ulist = [ random.randint(0,100) for i in range(20) ]\n",
    "#ulist = [ 5, 6, 3, 7, 2]\n",
    "\n",
    "#boundary cases where pos, unknown goes from lb to ub+1 and swap with pivot n times\n",
    "ulist = [ i for i in range(99,1,-1)]\n",
    "#ulist = [8] * 20\n",
    "\n",
    "# boundary case where pos does not move \n",
    "#ulist = [ i for i in range(1,10)]\n",
    "\n",
    "\n",
    "#print(ulist)\n",
    "in_qs(ulist)\n",
    "print(ulist)"
   ]
  },
  {
   "cell_type": "code",
   "execution_count": null,
   "metadata": {},
   "outputs": [],
   "source": [
    "## Iterative\n",
    "\n",
    "## partition takes an array and partitions the array into 2 partitions smaller and equal to a pivot and greater than pivot respectively\n",
    "\n",
    "def partition(lb,ub,array):\n",
    "    pos, pivot = lb+1, array[lb] ## left of pos are <= pivot\n",
    "    unknown_pos = lb + 1\n",
    "    while unknown_pos <= ub:\n",
    "        if array[unknown_pos] <= pivot:\n",
    "            array[pos], array[unknown_pos] = array[unknown_pos], array[pos]\n",
    "            pos +=1\n",
    "            unknown_pos +=1\n",
    "        else:\n",
    "            unknown_pos +=1\n",
    "    array[lb], array[pos-1] = array[pos-1], array[lb]\n",
    "    return pos-1\n",
    "\n",
    "def in_qs(array):\n",
    "    stack =[]\n",
    "    lb, ub = 0, len(array)-1\n",
    "    stack.append( (lb,ub) )\n",
    "    while stack:\n",
    "        lb, ub = stack.pop( len(stack)-1)\n",
    "        if ub > lb: \n",
    "            pivot_pos = partition(lb, ub, array)\n",
    "            stack.append((pivot_pos + 1, ub)) ## right partition\n",
    "            stack.append( (lb, pivot_pos -1)) ## left partition  "
   ]
  },
  {
   "cell_type": "code",
   "execution_count": null,
   "metadata": {},
   "outputs": [],
   "source": [
    "import random\n",
    "ulist = [ random.randint(0,100) for i in range(8) ]\n",
    "print(ulist)\n",
    "in_qs(ulist)\n",
    "print(ulist)"
   ]
  },
  {
   "cell_type": "code",
   "execution_count": null,
   "metadata": {},
   "outputs": [],
   "source": []
  },
  {
   "cell_type": "code",
   "execution_count": null,
   "metadata": {},
   "outputs": [],
   "source": [
    "test = [5,3,5]\n",
    "partition(0,2,test)\n"
   ]
  },
  {
   "cell_type": "code",
   "execution_count": null,
   "metadata": {},
   "outputs": [],
   "source": [
    "test"
   ]
  },
  {
   "cell_type": "code",
   "execution_count": null,
   "metadata": {},
   "outputs": [],
   "source": []
  }
 ]
}