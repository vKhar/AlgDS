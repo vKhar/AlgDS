{
 "cells": [
  {
   "cell_type": "code",
   "execution_count": 4,
   "metadata": {},
   "outputs": [],
   "source": [
    "def shuffle(A, start, end): # end > start, move item end to start in place\n",
    "    if start >= end:\n",
    "        return A\n",
    "    temp = A[end]\n",
    "    for i in range(end-1, start-1, -1):\n",
    "        A[i+1] = A[i]\n",
    "    else:\n",
    "        A[i] = temp\n",
    "    return A"
   ]
  },
  {
   "cell_type": "code",
   "execution_count": 20,
   "metadata": {},
   "outputs": [],
   "source": [
    "def in_merge(A, start1, end1, start2, end2): ## in place merge\n",
    "    i=start1\n",
    "    j=start2\n",
    "    while i < start2 and j < end2+1:\n",
    "        if A[i] <= A[j]:\n",
    "            i+=1\n",
    "        else:\n",
    "            shuffle(A, i, j)\n",
    "            i+=1\n",
    "            j+=1\n",
    "            start2 += 1 ## since the length of left list increase by 1"
   ]
  },
  {
   "cell_type": "code",
   "execution_count": 23,
   "metadata": {},
   "outputs": [
    {
     "data": {
      "text/plain": [
       "[1, 2]"
      ]
     },
     "execution_count": 23,
     "metadata": {},
     "output_type": "execute_result"
    }
   ],
   "source": [
    "in_merge([1,2],0,0,1,1)"
   ]
  },
  {
   "cell_type": "code",
   "execution_count": 25,
   "metadata": {},
   "outputs": [],
   "source": [
    "def in_merge_sort(A, start, end):\n",
    "    if start == end:\n",
    "        return \n",
    "    else:\n",
    "        mid= (start + end)//2\n",
    "        start1 = start\n",
    "        end1 = mid \n",
    "        start2= mid+1\n",
    "        end2 = end\n",
    "        in_merge_sort(A,start1,end1)\n",
    "        in_merge_sort(A,start2, end2)\n",
    "        in_merge(A,start1,end1, start2, end2)\n",
    "\n"
   ]
  },
  {
   "cell_type": "code",
   "execution_count": 30,
   "metadata": {},
   "outputs": [
    {
     "name": "stdout",
     "output_type": "stream",
     "text": [
      "[-4, -4, -4, -2, -2, 0, 0, 0, 2, 2, 3, 3, 4, 4, 5, 5, 7, 7, 8, 8, 8, 8, 8, 8, 9, 10, 10, 10, 10, 10]\n"
     ]
    }
   ],
   "source": [
    "import random\n",
    "A=[ random.randint(-5,10) for _ in range(30)]\n",
    "in_merge_sort(A, 0, len(A)-1)\n",
    "print(A)"
   ]
  },
  {
   "cell_type": "code",
   "execution_count": null,
   "metadata": {},
   "outputs": [],
   "source": []
  }
 ],
 "metadata": {
  "kernelspec": {
   "display_name": "Python 3",
   "language": "python",
   "name": "python3"
  },
  "language_info": {
   "codemirror_mode": {
    "name": "ipython",
    "version": 3
   },
   "file_extension": ".py",
   "mimetype": "text/x-python",
   "name": "python",
   "nbconvert_exporter": "python",
   "pygments_lexer": "ipython3",
   "version": "3.6.4"
  }
 },
 "nbformat": 4,
 "nbformat_minor": 2
}
