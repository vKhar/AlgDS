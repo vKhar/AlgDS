{
 "metadata": {
  "language_info": {
   "codemirror_mode": {
    "name": "ipython",
    "version": 3
   },
   "file_extension": ".py",
   "mimetype": "text/x-python",
   "name": "python",
   "nbconvert_exporter": "python",
   "pygments_lexer": "ipython3",
   "version": "3.6.4-final"
  },
  "orig_nbformat": 2,
  "kernelspec": {
   "name": "python3",
   "display_name": "Python 3.6.4 64-bit",
   "metadata": {
    "interpreter": {
     "hash": "f7291e4b392a32fbfa525b87d1bbd0a3d888adf3d0deca0c205c61b9e7284b82"
    }
   }
  }
 },
 "nbformat": 4,
 "nbformat_minor": 2,
 "cells": [
  {
   "cell_type": "code",
   "execution_count": 15,
   "metadata": {},
   "outputs": [],
   "source": [
    "def recur_insertSort(A):\n",
    "    def _insert(A, x):\n",
    "        if len(A) == 0:\n",
    "            return [x]\n",
    "        else:\n",
    "            sortedA = _insert(A[:-1], A[-1])\n",
    "            for i in range(len(sortedA)):\n",
    "                if x <= sortedA[i]:\n",
    "                    sortedA.insert(i, x)\n",
    "                    return sortedA\n",
    "            else:\n",
    "                return sortedA + [x]\n",
    "\n",
    "    return _insert(A[:-1], A[-1])"
   ]
  },
  {
   "cell_type": "code",
   "execution_count": 16,
   "metadata": {},
   "outputs": [
    {
     "output_type": "execute_result",
     "data": {
      "text/plain": [
       "[2, 4, 10, 11, 13, 14, 14, 15, 15, 20]"
      ]
     },
     "metadata": {},
     "execution_count": 16
    }
   ],
   "source": [
    "import random\n",
    "A=[ random.randint(1,20) for _ in range(10)]\n",
    "\n",
    "recur_insertSort(A)\n"
   ]
  },
  {
   "cell_type": "code",
   "execution_count": null,
   "metadata": {},
   "outputs": [],
   "source": []
  }
 ]
}