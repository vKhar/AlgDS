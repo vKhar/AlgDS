{
 "metadata": {
  "language_info": {
   "codemirror_mode": {
    "name": "ipython",
    "version": 3
   },
   "file_extension": ".py",
   "mimetype": "text/x-python",
   "name": "python",
   "nbconvert_exporter": "python",
   "pygments_lexer": "ipython3",
   "version": "3.6.4-final"
  },
  "orig_nbformat": 2,
  "kernelspec": {
   "name": "python3",
   "display_name": "Python 3.6.4 64-bit",
   "metadata": {
    "interpreter": {
     "hash": "f7291e4b392a32fbfa525b87d1bbd0a3d888adf3d0deca0c205c61b9e7284b82"
    }
   }
  }
 },
 "nbformat": 4,
 "nbformat_minor": 2,
 "cells": [
  {
   "cell_type": "code",
   "execution_count": null,
   "metadata": {},
   "outputs": [],
   "source": [
    "import random\n",
    "def quick_sort(A):\n",
    "    if len(A) <= 1:\n",
    "        return A\n",
    "    pivot = random.randint(0, len(A)-1)\n",
    "    left=[]\n",
    "    right=[]\n",
    "    for i, n in enumerate(A):\n",
    "        if i != pivot :\n",
    "            if n <= A[pivot]:\n",
    "                left += [n]\n",
    "            else:\n",
    "                right += [n]\n",
    "    return quick_sort(left) + [ A[pivot] ] + quick_sort(right)"
   ]
  },
  {
   "cell_type": "code",
   "execution_count": null,
   "metadata": {},
   "outputs": [],
   "source": [
    "import random\n",
    "def quick_sort(A):\n",
    "    if len(A) <= 1:\n",
    "        return A\n",
    "    \n",
    "    pivot_i = random.randint(0, len(A)-1)\n",
    "    A[0], A[pivot_i] = A[pivot_i], A[0]\n",
    "    \n",
    "    left=[]\n",
    "    right=[]\n",
    "    pivot = A[0]\n",
    "    for n in A[1:]:\n",
    "            if n <= pivot:\n",
    "                left += [n]\n",
    "            else:\n",
    "                right += [n]\n",
    "    return quick_sort(left) + [ pivot ] + quick_sort(right)"
   ]
  },
  {
   "cell_type": "code",
   "execution_count": null,
   "metadata": {},
   "outputs": [],
   "source": [
    "import random\n",
    "ulist = [ random.randint(0,10) for i in range(8) ]\n",
    "ulist = list( range(10,-1,-1))\n",
    "print(ulist)\n",
    "print ( quick_sort(ulist) )\n"
   ]
  },
  {
   "cell_type": "code",
   "execution_count": null,
   "metadata": {},
   "outputs": [],
   "source": []
  }
 ]
}